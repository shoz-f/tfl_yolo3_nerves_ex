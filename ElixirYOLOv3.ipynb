{
  "nbformat": 4,
  "nbformat_minor": 0,
  "metadata": {
    "colab": {
      "name": "ElixirYOLOv3.ipynb",
      "provenance": [],
      "collapsed_sections": [],
      "toc_visible": true,
      "mount_file_id": "1nuosgY-yQX73H4CySw-JrUmNxrCeL68z",
      "authorship_tag": "ABX9TyNmdHpXooKdw/Q7mbfN8mve",
      "include_colab_link": true
    },
    "kernelspec": {
      "name": "python3",
      "display_name": "Python 3"
    }
  },
  "cells": [
    {
      "cell_type": "markdown",
      "metadata": {
        "id": "view-in-github",
        "colab_type": "text"
      },
      "source": [
        "<a href=\"https://colab.research.google.com/github/shoz-f/tfl_yolo3_ex/blob/master/ElixirYOLOv3.ipynb\" target=\"_parent\"><img src=\"https://colab.research.google.com/assets/colab-badge.svg\" alt=\"Open In Colab\"/></a>"
      ]
    },
    {
      "cell_type": "markdown",
      "metadata": {
        "id": "qVEQ9G8MQ1C7"
      },
      "source": [
        "# Elixir/Nerves用の YOLO v3 tfliteモデルの作成"
      ]
    },
    {
      "cell_type": "code",
      "metadata": {
        "id": "Y6Ya5Q92ifmj"
      },
      "source": [
        "from google.colab import files\r\n",
        "import tensorflow as tf"
      ],
      "execution_count": null,
      "outputs": []
    },
    {
      "cell_type": "markdown",
      "metadata": {
        "id": "1a1YSpkQQfHI"
      },
      "source": [
        "###1) Việt Hùngさんの tensorflow-yolov4-tfliteをロードします"
      ]
    },
    {
      "cell_type": "code",
      "metadata": {
        "id": "gmj9NUNhKwJa"
      },
      "source": [
        "!git clone https://github.com/hunglc007/tensorflow-yolov4-tflite.git\r\n",
        "!mv ./tensorflow-yolov4-tflite/* .\r\n",
        "!rm -rf ./tensorflow-yolov4-tflite/"
      ],
      "execution_count": null,
      "outputs": []
    },
    {
      "cell_type": "markdown",
      "metadata": {
        "id": "QIXiBDN3VVSf"
      },
      "source": [
        "###2)Darknet YOLO v3の **fullモデル** の重みデータをダウンロードし、その重みデータをTensorflowモデルに変換して保存します"
      ]
    },
    {
      "cell_type": "code",
      "metadata": {
        "id": "y608YMp9Pj2W"
      },
      "source": [
        "!wget https://pjreddie.com/media/files/yolov3.weights\r\n",
        "!mv ./yolov3.weights ./data\r\n",
        "!python save_model.py --weights ./data/yolov3.weights --output ./checkpoints/yolov3-416 --input_size 416 --model yolov3 --framework tflite"
      ],
      "execution_count": null,
      "outputs": []
    },
    {
      "cell_type": "markdown",
      "metadata": {
        "id": "PP-ff8NcXm7F"
      },
      "source": [
        "###2-1)Tensolflowモデル'yolov3-416'を tfliteモデル(float32)に変換します"
      ]
    },
    {
      "cell_type": "code",
      "metadata": {
        "id": "DGD2hLFgchOd"
      },
      "source": [
        "converter = tf.lite.TFLiteConverter.from_saved_model('./checkpoints/yolov3-416')\r\n",
        "tflite_model = converter.convert()\r\n",
        "open('./checkpoints/yolov3-416.tflite', 'wb').write(tflite_model)"
      ],
      "execution_count": null,
      "outputs": []
    },
    {
      "cell_type": "markdown",
      "metadata": {
        "id": "OxJNGqwxlxZd"
      },
      "source": [
        "tfliteモデルをPCにダウンロード(10数分ほど掛かります)<br/>\r\n",
        "※Google Driveへコピーすることも出来ます"
      ]
    },
    {
      "cell_type": "code",
      "metadata": {
        "id": "yytGEFgtdb1K"
      },
      "source": [
        "files.download('./checkpoints/yolov3-416.tflite')"
      ],
      "execution_count": null,
      "outputs": []
    },
    {
      "cell_type": "markdown",
      "metadata": {
        "id": "TmPTgfaoitYr"
      },
      "source": [
        "###2-2)Tensolflowモデル'yolov3-416'を ダイナミックレンジ量子化したtfliteモデルに変換します"
      ]
    },
    {
      "cell_type": "code",
      "metadata": {
        "id": "fSDCsNTKdgss"
      },
      "source": [
        "converter = tf.lite.TFLiteConverter.from_saved_model('./checkpoints/yolov3-416')\r\n",
        "converter.optimizations = [tf.lite.Optimize.DEFAULT]\r\n",
        "tflite_model = converter.convert()\r\n",
        "open('./checkpoints/yolov3-416-dr.tflite', 'wb').write(tflite_model)"
      ],
      "execution_count": null,
      "outputs": []
    },
    {
      "cell_type": "markdown",
      "metadata": {
        "id": "b7bUfhzUmsRP"
      },
      "source": [
        "tfliteモデルをPCにダウンロード(8分ほど掛かります)"
      ]
    },
    {
      "cell_type": "code",
      "metadata": {
        "id": "WVrr_QDdkZB9"
      },
      "source": [
        "files.download('./checkpoints/yolov3-416-dr.tflite')"
      ],
      "execution_count": null,
      "outputs": []
    },
    {
      "cell_type": "markdown",
      "metadata": {
        "id": "Kkwu5Ws6nM6-"
      },
      "source": [
        "###3)Darknet YOLO v3の **tinyモデル** の重みデータをダウンロードし、その重みデータをTensorflowモデルに変換して保存します"
      ]
    },
    {
      "cell_type": "code",
      "metadata": {
        "id": "EUgQo2LhnPGM"
      },
      "source": [
        "!wget https://pjreddie.com/media/files/yolov3-tiny.weights\r\n",
        "!mv ./yolov3-tiny.weights ./data\r\n",
        "!python save_model.py --weights ./data/yolov3-tiny.weights --output ./checkpoints/yolov3-tiny-416 --input_size 416 --model yolov3 --tiny --framework tflite"
      ],
      "execution_count": null,
      "outputs": []
    },
    {
      "cell_type": "markdown",
      "metadata": {
        "id": "wiqxMlOcqGVC"
      },
      "source": [
        "###3-1)Tensolflowモデル'yolov3-tiny-416'を tfliteモデル(float32)に変換します"
      ]
    },
    {
      "cell_type": "code",
      "metadata": {
        "id": "MavWtuTTqMcI"
      },
      "source": [
        "converter = tf.lite.TFLiteConverter.from_saved_model('./checkpoints/yolov3-tiny-416')\r\n",
        "tflite_model = converter.convert()\r\n",
        "open('./checkpoints/yolov3-tiny-416.tflite', 'wb').write(tflite_model)"
      ],
      "execution_count": null,
      "outputs": []
    },
    {
      "cell_type": "markdown",
      "metadata": {
        "id": "oLAZ64XPqXuK"
      },
      "source": [
        "tfliteモデルをPCにダウンロード(10数分ほど掛かります)"
      ]
    },
    {
      "cell_type": "code",
      "metadata": {
        "id": "FiSkgI-pqc4v"
      },
      "source": [
        "files.download('./checkpoints/yolov3-tiny-416.tflite')"
      ],
      "execution_count": null,
      "outputs": []
    },
    {
      "cell_type": "markdown",
      "metadata": {
        "id": "the2Qx2iqkKs"
      },
      "source": [
        "3-2)Tensolflowモデル'yolov3-tiny-416'を ダイナミックレンジ量子化したtfliteモデルに変換します"
      ]
    },
    {
      "cell_type": "code",
      "metadata": {
        "id": "Wt2GjKYmqtBV"
      },
      "source": [
        "converter = tf.lite.TFLiteConverter.from_saved_model('./checkpoints/yolov3-tiny-416')\r\n",
        "converter.optimizations = [tf.lite.Optimize.DEFAULT]\r\n",
        "tflite_model = converter.convert()\r\n",
        "open('./checkpoints/yolov3-tiny-416-dr.tflite', 'wb').write(tflite_model)"
      ],
      "execution_count": null,
      "outputs": []
    },
    {
      "cell_type": "markdown",
      "metadata": {
        "id": "6X8UzJxiq2Kz"
      },
      "source": [
        "tfliteモデルをPCにダウンロード(10数分ほど掛かります)"
      ]
    },
    {
      "cell_type": "code",
      "metadata": {
        "id": "K4Bt1PEkq5DN"
      },
      "source": [
        "files.download('./checkpoints/yolov3-tiny-416-dr.tflite')"
      ],
      "execution_count": null,
      "outputs": []
    },
    {
      "cell_type": "markdown",
      "metadata": {
        "id": "XfrBrqiUz9Ii"
      },
      "source": [
        "###4)動作テスト用のスクリプト"
      ]
    },
    {
      "cell_type": "code",
      "metadata": {
        "id": "yiIyzAF2xccg"
      },
      "source": [
        "!python detect.py --weights ./checkpoints/yolov3-416.tflite --size 416 --model yolov3 --image ./data/kite.jpg --framework tflite"
      ],
      "execution_count": null,
      "outputs": []
    }
  ]
}